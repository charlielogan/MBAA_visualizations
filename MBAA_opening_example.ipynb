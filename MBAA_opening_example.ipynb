{
 "cells": [
  {
   "cell_type": "code",
   "execution_count": 1,
   "metadata": {},
   "outputs": [],
   "source": [
    "from basketball_reference_web_scraper import client\n",
    "import matplotlib.pyplot as plt\n",
    "%matplotlib inline\n",
    "import numpy as np"
   ]
  },
  {
   "cell_type": "code",
   "execution_count": 2,
   "metadata": {},
   "outputs": [],
   "source": [
    "players2020 = client.players_advanced_season_totals(season_end_year=2020)\n",
    "players2019 = client.players_advanced_season_totals(season_end_year=2019)"
   ]
  },
  {
   "cell_type": "code",
   "execution_count": 3,
   "metadata": {},
   "outputs": [
    {
     "data": {
      "text/plain": [
       "{'slug': 'doncilu01',\n",
       " 'name': 'Luka Dončić',\n",
       " 'positions': [<Position.SHOOTING_GUARD: 'SHOOTING GUARD'>],\n",
       " 'age': 19,\n",
       " 'team': <Team.DALLAS_MAVERICKS: 'DALLAS MAVERICKS'>,\n",
       " 'games_played': 72,\n",
       " 'minutes_played': 2318,\n",
       " 'player_efficiency_rating': 19.6,\n",
       " 'true_shooting_percentage': 0.545,\n",
       " 'three_point_attempt_rate': 0.433,\n",
       " 'free_throw_attempt_rate': 0.409,\n",
       " 'offensive_rebound_percentage': 4.0,\n",
       " 'defensive_rebound_percentage': 21.9,\n",
       " 'total_rebound_percentage': 13.0,\n",
       " 'assist_percentage': 31.6,\n",
       " 'steal_percentage': 1.6,\n",
       " 'block_percentage': 0.9,\n",
       " 'turnover_percentage': 15.0,\n",
       " 'usage_percentage': 30.5,\n",
       " 'offensive_win_shares': 2.1,\n",
       " 'defensive_win_shares': 2.8,\n",
       " 'win_shares': 4.9,\n",
       " 'win_shares_per_48_minutes': 0.101,\n",
       " 'offensive_box_plus_minus': 3.6,\n",
       " 'defensive_box_plus_minus': 0.3,\n",
       " 'box_plus_minus': 3.9,\n",
       " 'value_over_replacement_player': 3.4}"
      ]
     },
     "execution_count": 3,
     "metadata": {},
     "output_type": "execute_result"
    }
   ],
   "source": [
    "luka19 = list(filter(lambda person: person['name'] == 'Luka Dončić', players2019))[0]\n",
    "luka20 = list(filter(lambda person: person['name'] == 'Luka Dončić', players2020))[0]\n",
    "bam19 = list(filter(lambda person: person['name'] == 'Bam Adebayo', players2019))[0]\n",
    "bam20 = list(filter(lambda person: person['name'] == 'Bam Adebayo', players2020))[0]\n",
    "bi19 = list(filter(lambda person: person['name'] == 'Brandon Ingram', players2019))[0]\n",
    "bi20 = list(filter(lambda person: person['name'] == 'Brandon Ingram', players2020))[0]\n",
    "luka19"
   ]
  },
  {
   "cell_type": "code",
   "execution_count": 23,
   "metadata": {},
   "outputs": [
    {
     "data": {
      "image/png": "[encoded data removed]",
      "text/plain": [
       "<Figure size 432x288 with 1 Axes>"
      ]
     },
     "metadata": {
      "needs_background": "light"
     },
     "output_type": "display_data"
    }
   ],
   "source": [
    "N = 3\n",
    "luka19_data = (luka19['player_efficiency_rating'], luka19['true_shooting_percentage']*100, luka19['win_shares'])\n",
    "luka20_data = (luka20['player_efficiency_rating'], luka20['true_shooting_percentage']*100, luka20['win_shares'])\n",
    "\n",
    "ind = np.arange(N) \n",
    "width = 0.35       \n",
    "plt.bar(ind, luka19_data, width, label='2018-19')\n",
    "plt.bar(ind + width, luka20_data, width,\n",
    "    label='2019-20')\n",
    "\n",
    "plt.ylabel('Scores')\n",
    "plt.title('Luka Doncic')\n",
    "\n",
    "plt.xticks(ind + width / 2, ('PER', 'TS%', 'Win Shares'))\n",
    "plt.legend(loc='best')\n",
    "plt.show()"
   ]
  },
  {
   "cell_type": "code",
   "execution_count": 24,
   "metadata": {},
   "outputs": [
    {
     "data": {
      "image/png": "[encoded data removed]",
      "text/plain": [
       "<Figure size 432x288 with 1 Axes>"
      ]
     },
     "metadata": {
      "needs_background": "light"
     },
     "output_type": "display_data"
    }
   ],
   "source": [
    "N = 3\n",
    "bam19_data = (bam19['player_efficiency_rating'], bam19['true_shooting_percentage']*100, bam19['win_shares'])\n",
    "bam20_data = (bam20['player_efficiency_rating'], bam20['true_shooting_percentage']*100, bam20['win_shares'])\n",
    "\n",
    "ind = np.arange(N) \n",
    "width = 0.35       \n",
    "plt.bar(ind, bam19_data, width, label='2018-19')\n",
    "plt.bar(ind + width, bam20_data, width,\n",
    "    label='2019-20')\n",
    "\n",
    "plt.ylabel('Scores')\n",
    "plt.title('Bam Adebayo')\n",
    "\n",
    "plt.xticks(ind + width / 2, ('PER', 'TS%', 'Win Shares'))\n",
    "plt.legend(loc='best')\n",
    "plt.show()"
   ]
  },
  {
   "cell_type": "code",
   "execution_count": 25,
   "metadata": {},
   "outputs": [
    {
     "data": {
      "image/png": "[encoded data removed]",
      "text/plain": [
       "<Figure size 432x288 with 1 Axes>"
      ]
     },
     "metadata": {
      "needs_background": "light"
     },
     "output_type": "display_data"
    }
   ],
   "source": [
    "N = 3\n",
    "bi19_data = (bi19['player_efficiency_rating'], bi19['true_shooting_percentage']*100, bi19['win_shares'])\n",
    "bi20_data = (bi20['player_efficiency_rating'], bi20['true_shooting_percentage']*100, bi20['win_shares'])\n",
    "\n",
    "ind = np.arange(N) \n",
    "width = 0.35       \n",
    "plt.bar(ind, bi19_data, width, label='2018-19')\n",
    "plt.bar(ind + width, bi20_data, width,\n",
    "    label='2019-20')\n",
    "\n",
    "plt.ylabel('Scores')\n",
    "plt.title('Brandon Ingram')\n",
    "\n",
    "plt.xticks(ind + width / 2, ('PER', 'TS%', 'Win Shares'))\n",
    "plt.legend(loc='best')\n",
    "plt.show()"
   ]
  }
 ],
 "metadata": {
  "kernelspec": {
   "display_name": "Python 3",
   "language": "python",
   "name": "python3"
  },
  "language_info": {
   "codemirror_mode": {
    "name": "ipython",
    "version": 3
   },
   "file_extension": ".py",
   "mimetype": "text/x-python",
   "name": "python",
   "nbconvert_exporter": "python",
   "pygments_lexer": "ipython3",
   "version": "3.7.1"
  }
 },
 "nbformat": 4,
 "nbformat_minor": 4
}
